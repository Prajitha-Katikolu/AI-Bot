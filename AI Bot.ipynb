{
 "cells": [
  {
   "cell_type": "code",
   "execution_count": 1,
   "id": "6426ad43-0d07-4cb8-bed7-b1df5560bb77",
   "metadata": {},
   "outputs": [],
   "source": [
    "import pandas as pd\n",
    "import nltk\n",
    "import spacy\n",
    "from nltk.tokenize import word_tokenize\n",
    "from nltk.corpus import stopwords\n",
    "from nltk.stem import WordNetLemmatizer"
   ]
  },
  {
   "cell_type": "code",
   "execution_count": 3,
   "id": "014cdddd-68bb-43b7-951a-37e1449f4220",
   "metadata": {},
   "outputs": [
    {
     "name": "stderr",
     "output_type": "stream",
     "text": [
      "[nltk_data] Downloading package punkt to\n",
      "[nltk_data]     C:\\Users\\prajitha\\AppData\\Roaming\\nltk_data...\n",
      "[nltk_data]   Package punkt is already up-to-date!\n",
      "[nltk_data] Downloading package stopwords to\n",
      "[nltk_data]     C:\\Users\\prajitha\\AppData\\Roaming\\nltk_data...\n",
      "[nltk_data]   Package stopwords is already up-to-date!\n",
      "[nltk_data] Downloading package averaged_perceptron_tagger to\n",
      "[nltk_data]     C:\\Users\\prajitha\\AppData\\Roaming\\nltk_data...\n",
      "[nltk_data]   Package averaged_perceptron_tagger is already up-to-\n",
      "[nltk_data]       date!\n",
      "[nltk_data] Downloading package wordnet to\n",
      "[nltk_data]     C:\\Users\\prajitha\\AppData\\Roaming\\nltk_data...\n",
      "[nltk_data]   Package wordnet is already up-to-date!\n",
      "[nltk_data] Downloading package punkt_tab to\n",
      "[nltk_data]     C:\\Users\\prajitha\\AppData\\Roaming\\nltk_data...\n",
      "[nltk_data]   Unzipping tokenizers\\punkt_tab.zip.\n"
     ]
    },
    {
     "data": {
      "text/plain": [
       "True"
      ]
     },
     "execution_count": 3,
     "metadata": {},
     "output_type": "execute_result"
    }
   ],
   "source": [
    "nltk.download('punkt')\n",
    "nltk.download('stopwords')\n",
    "nltk.download('averaged_perceptron_tagger')\n",
    "nltk.download('wordnet')\n",
    "nltk.download('punkt_tab')"
   ]
  },
  {
   "cell_type": "code",
   "execution_count": 11,
   "id": "c77406f9-27b8-42ea-a888-3584999e5608",
   "metadata": {},
   "outputs": [],
   "source": [
    "df = pd.read_csv(r\"C:\\Users\\prajitha\\Downloads\\data.csv\")\n",
    "output_csv = 'processed_questions.csv'\n",
    "df['tokens'] = df['Question'].apply(word_tokenize)\n",
    "stop_words = set(stopwords.words('english'))\n",
    "df['filtered_tokens'] = df['tokens'].apply(lambda x: [word for word in x if word.lower() not in stop_words])\n",
    "lemmatizer = WordNetLemmatizer()\n",
    "df['lemmatized_tokens'] = df['filtered_tokens'].apply(lambda x: [lemmatizer.lemmatize(word) for word in x])\n",
    "df['processed_questions'] = df['lemmatized_tokens'].apply(lambda x: '-'.join(x))\n",
    "df[['processed_questions', 'Answer']].to_csv(output_csv, index=False)"
   ]
  },
  {
   "cell_type": "code",
   "execution_count": 29,
   "id": "d0e6038f-6e19-4672-a07b-f263fa6ecf9a",
   "metadata": {},
   "outputs": [
    {
     "name": "stdin",
     "output_type": "stream",
     "text": [
      "Ask a question:  Python?\n"
     ]
    }
   ],
   "source": [
    "df = pd.read_csv(output_csv)\n",
    "user_question = input(\"Ask a question: \")"
   ]
  },
  {
   "cell_type": "code",
   "execution_count": 31,
   "id": "8330c4a9-01e0-4c80-8b8f-65ebc7e1ecdb",
   "metadata": {},
   "outputs": [
    {
     "name": "stdout",
     "output_type": "stream",
     "text": [
      "Chatbot: Sorry, I don't know the answer.\n"
     ]
    }
   ],
   "source": [
    "tokens = word_tokenize(user_question)\n",
    "tokens = [word for word in tokens if word.lower() not in stop_words]\n",
    "tokens = [lemmatizer.lemmatize(word) for word in tokens]\n",
    "processed_question = '-'.join(tokens)\n",
    "answer = df[df['processed_questions'] == processed_question]['Answer']\n",
    "if not answer.empty:\n",
    "    print(\"Chatbot: \", answer.values[0])\n",
    "else:\n",
    "    print(\"Chatbot: Sorry, I don't know the answer.\")"
   ]
  },
  {
   "cell_type": "code",
   "execution_count": null,
   "id": "d13860bb-2562-4458-8fd5-8a97bf83da2c",
   "metadata": {},
   "outputs": [],
   "source": []
  }
 ],
 "metadata": {
  "kernelspec": {
   "display_name": "Python [conda env:base] *",
   "language": "python",
   "name": "conda-base-py"
  },
  "language_info": {
   "codemirror_mode": {
    "name": "ipython",
    "version": 3
   },
   "file_extension": ".py",
   "mimetype": "text/x-python",
   "name": "python",
   "nbconvert_exporter": "python",
   "pygments_lexer": "ipython3",
   "version": "3.12.7"
  }
 },
 "nbformat": 4,
 "nbformat_minor": 5
}
